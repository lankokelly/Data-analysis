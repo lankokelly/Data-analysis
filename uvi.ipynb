{
 "cells": [
  {
   "cell_type": "code",
   "execution_count": 121,
   "metadata": {},
   "outputs": [
    {
     "data": {
      "text/plain": [
       "Text(0,0.5,'Cumulative Frequency')"
      ]
     },
     "execution_count": 121,
     "metadata": {},
     "output_type": "execute_result"
    },
    {
     "data": {
      "image/png": "[encoded data removed]",
      "text/plain": [
       "<Figure size 432x288 with 1 Axes>"
      ]
     },
     "metadata": {},
     "output_type": "display_data"
    }
   ],
   "source": [
    "import scipy.stats\n",
    "import numpy as np\n",
    "import matplotlib.pyplot as plt\n",
    "\n",
    "# 100 values from a normal distribution with a std of 3 and a mean of 0.5\n",
    "data = 3.0 * np.random.randn(100) + 0.5\n",
    "\n",
    "counts, start, dx, _ = scipy.stats.cumfreq(data, numbins=20)\n",
    "x = np.arange(counts.size) * dx + start\n",
    "\n",
    "plt.plot(x, counts, 'ro')\n",
    "plt.xlabel('Value')\n",
    "plt.ylabel('Cumulative Frequency')\n"
   ]
  },
  {
   "cell_type": "code",
   "execution_count": 119,
   "metadata": {
    "scrolled": true
   },
   "outputs": [],
   "source": [
    "# -*- coding: utf-8 -*-\n",
    "from requests_html import HTMLSession\n",
    "import requests\n",
    "import pandas as pd\n",
    "import numpy as np\n",
    "import json\n",
    "import matplotlib.pyplot as plt\n",
    "\n",
    "url = 'http://opendata2.epa.gov.tw/UV/UV.json'\n",
    "r = requests.get(url)\n",
    "#利用json.loads()解碼JSON\n",
    "reqsjson = json.loads(r.text)\n",
    "\n",
    "#利用迴圈儲存地方紫外線數值\n",
    "Sitename = {'淡水':0, '板橋':0, '桃園':0, '苗栗':0, '沙鹿':0, '彰化':0, '南投':0, '斗六':0, \n",
    "            '塔塔加':0, '朴子':0, '新營':0, '橋頭':0, '屏東':0, '嘉義':0, '臺中':0, '澎湖':0,\n",
    "            '宜蘭':0, '金門':0, '日月潭':0, '臺東':0, '蘭嶼':0, '新屋':0, '基隆':0, '成功':0, \n",
    "            '臺北':0, '恆春':0, '鞍部':0, '新竹':0, '臺南':0, '玉山':0, '高雄':0, '馬祖':0, '花蓮':0}\n",
    "County = []\n",
    "PublishAgency = []\n",
    "PublishTime = []\n",
    "Latitude = []\n",
    "Longitude = []\n",
    "for content in reqsjson:\n",
    "    if (content['UVI']==''):\n",
    "        pass\n",
    "    else:\n",
    "        Sitename[content['SiteName']]+= float(content['UVI'])\n",
    "        County.append(content['County'])\n",
    "        PublishAgency.append(content['PublishAgency'])\n",
    "        PublishTime.append(content['PublishTime'])\n",
    "        Latitude.append(content['WGS84Lat'])\n",
    "        Longitude.append(content['WGS84Lon'])\n",
    "#利用plt畫長條圖表      \n",
    "Site = ['Tamsui', 'Banqiao', 'Taoyuan', 'Miaoli', 'Shalu', 'Changhua', 'Nantou', 'Douliu',\n",
    "         'Tatajia', 'Puzi', 'Xinying', 'Qiaotou', 'Pingtung', 'Chiayi', 'Taizhong', 'Penghu',\n",
    "         'Yilan', 'Kinmen', 'Sun Moon Lake', 'Taitung', 'Lanyu', 'Xinwu', 'Keelung', 'Chenggung',\n",
    "         'Taipei', 'Hengchun', 'Anbu', 'Hsinchu', 'Tainan', 'Mt. Jade', 'Kaohsiung', 'Matsu',\n",
    "         'Hualien']\n",
    "Uvi=[]\n",
    "for key in Sitename.items():\n",
    "    Uvi.append(key[1])\n",
    "\n",
    "df=pd.DataFrame({'Country' : County,\n",
    "                 'Publish Agency' : PublishAgency,\n",
    "                 'Publish Time' : PublishTime,\n",
    "                 'Site Name' : Site,\n",
    "                 'UVI' : Uvi,\n",
    "                 'Latitude' : Latitude,\n",
    "                 'Longitude' : Longitude})"
   ]
  },
  {
   "cell_type": "code",
   "execution_count": 120,
   "metadata": {},
   "outputs": [
    {
     "data": {
      "text/html": [
       "<div>\n",
       "<style scoped>\n",
       "    .dataframe tbody tr th:only-of-type {\n",
       "        vertical-align: middle;\n",
       "    }\n",
       "\n",
       "    .dataframe tbody tr th {\n",
       "        vertical-align: top;\n",
       "    }\n",
       "\n",
       "    .dataframe thead th {\n",
       "        text-align: right;\n",
       "    }\n",
       "</style>\n",
       "<table border=\"1\" class=\"dataframe\">\n",
       "  <thead>\n",
       "    <tr style=\"text-align: right;\">\n",
       "      <th></th>\n",
       "      <th>Country</th>\n",
       "      <th>Publish Agency</th>\n",
       "      <th>Publish Time</th>\n",
       "      <th>Site Name</th>\n",
       "      <th>UVI</th>\n",
       "      <th>Latitude</th>\n",
       "      <th>Longitude</th>\n",
       "    </tr>\n",
       "  </thead>\n",
       "  <tbody>\n",
       "    <tr>\n",
       "      <th>0</th>\n",
       "      <td>新北市</td>\n",
       "      <td>環境保護署</td>\n",
       "      <td>2018-07-27 23:00</td>\n",
       "      <td>Tamsui</td>\n",
       "      <td>0.0</td>\n",
       "      <td>25,09,52.20</td>\n",
       "      <td>121,26,57.26</td>\n",
       "    </tr>\n",
       "    <tr>\n",
       "      <th>1</th>\n",
       "      <td>新北市</td>\n",
       "      <td>環境保護署</td>\n",
       "      <td>2018-07-27 23:00</td>\n",
       "      <td>Banqiao</td>\n",
       "      <td>0.0</td>\n",
       "      <td>25,00,46.7</td>\n",
       "      <td>121,27,31.2</td>\n",
       "    </tr>\n",
       "    <tr>\n",
       "      <th>2</th>\n",
       "      <td>桃園市</td>\n",
       "      <td>環境保護署</td>\n",
       "      <td>2018-07-27 23:00</td>\n",
       "      <td>Taoyuan</td>\n",
       "      <td>0.0</td>\n",
       "      <td>24,59,12.40</td>\n",
       "      <td>121,18,31.40</td>\n",
       "    </tr>\n",
       "    <tr>\n",
       "      <th>3</th>\n",
       "      <td>苗栗縣</td>\n",
       "      <td>環境保護署</td>\n",
       "      <td>2018-07-27 23:00</td>\n",
       "      <td>Miaoli</td>\n",
       "      <td>0.0</td>\n",
       "      <td>24,33,54.97</td>\n",
       "      <td>120,49,12.72</td>\n",
       "    </tr>\n",
       "    <tr>\n",
       "      <th>4</th>\n",
       "      <td>臺中市</td>\n",
       "      <td>環境保護署</td>\n",
       "      <td>2018-07-27 23:00</td>\n",
       "      <td>Shalu</td>\n",
       "      <td>0.0</td>\n",
       "      <td>24,13,32.26</td>\n",
       "      <td>120,34,7.66</td>\n",
       "    </tr>\n",
       "  </tbody>\n",
       "</table>\n",
       "</div>"
      ],
      "text/plain": [
       "  Country Publish Agency      Publish Time Site Name  UVI      Latitude  \\\n",
       "0     新北市          環境保護署  2018-07-27 23:00    Tamsui  0.0   25,09,52.20   \n",
       "1     新北市          環境保護署  2018-07-27 23:00   Banqiao  0.0    25,00,46.7   \n",
       "2     桃園市          環境保護署  2018-07-27 23:00   Taoyuan  0.0  24,59,12.40    \n",
       "3     苗栗縣          環境保護署  2018-07-27 23:00    Miaoli  0.0   24,33,54.97   \n",
       "4     臺中市          環境保護署  2018-07-27 23:00     Shalu  0.0   24,13,32.26   \n",
       "\n",
       "       Longitude  \n",
       "0   121,26,57.26  \n",
       "1    121,27,31.2  \n",
       "2  121,18,31.40   \n",
       "3   120,49,12.72  \n",
       "4    120,34,7.66  "
      ]
     },
     "execution_count": 120,
     "metadata": {},
     "output_type": "execute_result"
    }
   ],
   "source": [
    "df.head()"
   ]
  },
  {
   "cell_type": "code",
   "execution_count": 105,
   "metadata": {},
   "outputs": [
    {
     "data": {
      "image/png": "[encoded data removed]",
      "text/plain": [
       "<Figure size 1080x288 with 1 Axes>"
      ]
     },
     "metadata": {},
     "output_type": "display_data"
    }
   ],
   "source": [
    "plt.figure(figsize=(15,4))\n",
    "plt.bar(site ,uvi, color='moccasin')\n",
    "\n",
    "plt.xticks(fontsize=14, rotation=270)\n",
    "plt.yticks( range(0, 16, 2),fontsize=13)\n",
    "\n",
    "plt.xlabel('Site Name', fontsize=14)\n",
    "plt.ylabel('UVI', fontsize=14, rotation=0)\n",
    "\n",
    "for x,y in zip(site,uvi):\n",
    "    # ha: horizontal alignment\n",
    "    # va: vertical alignment\n",
    "    plt.text(x,y+0.5,'%.2f'%y,ha='center',va='bottom')\n",
    "plt.show()"
   ]
  },
  {
   "cell_type": "code",
   "execution_count": null,
   "metadata": {},
   "outputs": [],
   "source": []
  }
 ],
 "metadata": {
  "kernelspec": {
   "display_name": "Python 3",
   "language": "python",
   "name": "python3"
  },
  "language_info": {
   "codemirror_mode": {
    "name": "ipython",
    "version": 3
   },
   "file_extension": ".py",
   "mimetype": "text/x-python",
   "name": "python",
   "nbconvert_exporter": "python",
   "pygments_lexer": "ipython3",
   "version": "3.6.5"
  }
 },
 "nbformat": 4,
 "nbformat_minor": 2
}
